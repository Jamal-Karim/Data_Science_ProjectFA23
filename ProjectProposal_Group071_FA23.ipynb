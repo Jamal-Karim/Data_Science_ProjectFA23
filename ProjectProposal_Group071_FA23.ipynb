{
 "cells": [
  {
   "cell_type": "markdown",
   "metadata": {},
   "source": [
    "# COGS 108 - Project Proposal"
   ]
  },
  {
   "cell_type": "markdown",
   "metadata": {},
   "source": [
    "# Names\n",
    "\n",
    "- Alex Russell\n",
    "- Varun Dinesh\n",
    "- Jamal Karim\n",
    "- Haohan Zou\n",
    "- Sydnie Schlagheck"
   ]
  },
  {
   "cell_type": "markdown",
   "metadata": {},
   "source": [
    "# Research Question"
   ]
  },
  {
   "cell_type": "markdown",
   "metadata": {},
   "source": [
    "-  Include a specific, clear data science question.\n",
    "-  Make sure what you're measuring (variables) to answer the question is clear\n",
    "\n",
    "What is your research question? Include the specific question you're setting out to answer. This question should be specific, answerable with data, and clear. A general question with specific subquestions is permitted. (1-2 sentences)\n",
    "\n",
    "Is there a relationship between whether an NFL team plays on their home field and the margin by which the team wins or loses?"
   ]
  },
  {
   "cell_type": "markdown",
   "metadata": {},
   "source": [
    "## Background and Prior Work"
   ]
  },
  {
   "cell_type": "markdown",
   "metadata": {},
   "source": [
    "\n",
    "Background: The National Football League (NFL) is a professional league where all the best American football players compete. The league spans all of the United States and is divided up into 32 teams. In this data analysis we examine how much of an impact home field advantage applies to the home team winning the game, if at all. We also analyze by what margin of victory or loss the home team exhibits. Home field advantage is a common concept amongst all sports where some fans believe that the home team gains many advantages. One of the factors is not having to travel long distances for games the night or two nights before and being familiar with your home atmosphere. Another factor is the support and amount of fans. An example of this being relevant could be: when on the offensive side of the ball, fans lower their voices so the players can hear their coaches and leaders on the field, and in the same respect, when the home team is on defense, the fans raise their voices and become extremely loud so the visiting team can’t enjoy those luxuries. A side product of the fans also may impact the referees as they are pressured into doing what the home fans want.\n",
    "\n",
    "Prior Work: One piece of work looked at the value being home field advantage and predicting its effectiveness for the 2023 season. The study found that home field advantage in recent years has been trending downward. The base advantage that home field offers is usually 3 points but the study predicted it to go down to 1.4 for the 2023 season. https://www.covers.com/nfl/home-field-advantage\n",
    "\n",
    "Another piece of work looked at why home field advantage hasn’t been as effective as it used to be. The two main factors that this study examined were travel and the fans. Travel takes a huge toll on players both physically and mentally, but with new leaps of medicine, players have been able to reduce the effect travel has on their bodies. The study also found that fans had a significant impact on the players. While positive energy from the home team did help players, the study also mentioned that players would be too worried about letting down the fans that they end up costing themselves the win. According to this study, fans also had an effect through referees, who would more often make calls in favor of the home team. However, because of recent rule changes such as the ability to review calls, this effect has decreased. https://www.discovermagazine.com/mind/why-the-home-field-advantage-is-on-the-decline\n",
    "\n",
    "A third piece of work examined home-field advantage but from a view of individual NFL teams. It considers some confounding variables like weather, noise, and time zone. It also cites specific teams’ records and argues that certain teams actually do have a home field advantage, and that others do not necessarily have one. Some reasons that they thought could explain these advantages were that certain teams adapted more easily, time zone travel could hurt West coast teams, traction on the fields, and more. https://www.the33rdteam.com/category/analysis/which-nfl-teams-actually-have-home-field-advantage/ \n"
   ]
  },
  {
   "cell_type": "markdown",
   "metadata": {},
   "source": [
    "# Hypothesis\n"
   ]
  },
  {
   "cell_type": "markdown",
   "metadata": {},
   "source": [
    "\n",
    "- Ensure that this hypothesis is clear to readers\n",
    "- Explain why you think this will be the outcome (what was your thinking?)\n",
    "\n",
    "What is your main hypothesis/predictions about what the answer to your question is? Briefly explain your thinking. (2-3 sentences)\n",
    "- We believe that there will be a statistically significant advantage for the home team. We estimate that the home team will score an average of 5 points higher at home than away.\n",
    "- We came to this hypothesis because we believe that familiarity with the home conditions and stadium could improve performance. Also, more fans could attend home games, elevating the morale of the home team in significant ways. We chose 5 because we think that the home team could be improved by almost a touchdown (6 points)."
   ]
  },
  {
   "cell_type": "markdown",
   "metadata": {},
   "source": [
    "# Data"
   ]
  },
  {
   "cell_type": "markdown",
   "metadata": {},
   "source": [
    "The data that we want should include the game history with variables that include the name of the home team, away team, the score of the game, the date of the game, and a column for which team won the game. Potentially we want to broaden our analysis on this topic to include other environmental factors such as the weather conditions (is it raining, snowing, or fair?) and the type of stadium that the game was played in (open, closed, occupancy). \n",
    "\n",
    "We found a starting dataset that gives us the game history from the 1990’s that includes many columns including the home team name, away team name, the date of the game played, the score of the game, an indicator of the team that won, and other potentially important information of features including the time of the game, the location, money-lines, and stadium name. The dataset comes from the Github of nfl verse which is a collection of data and R packages for NFL analytics. There’s about 5,000 observations where each observation represents a game between two teams. Potentially, we want to find another dataset to explore other potential environmental factors; for example, a dataset that describes the type of stadium (open/closed) that we can merge into the dataset that we already have. \n",
    "\n",
    "https://github.com/nflverse/nfldata/blob/master/data/games.csv\n"
   ]
  },
  {
   "cell_type": "markdown",
   "metadata": {},
   "source": [
    "# Ethics & Privacy"
   ]
  },
  {
   "cell_type": "markdown",
   "metadata": {},
   "source": [
    "The question of home team advantage is relevant across sports and skill levels, but in order to get the most comprehensive, reputable, and unbiased data possible we decided to study the highly-visible NFL. Due to the significant differences/biases between NFL matches and matches in other sports/leagues, it is unlikely that our results could directly be applied to those other populations. Also, it is possible that there are some sources of bias for home-team advantage within NFL data due to home stadiums being different sizes, containing different mixes of home/visiting fans, and other metrics that are difficult to measure and/or account for. We can handle these issues by checking the data for outliers, unexpected patterns, and confounding variables that demonstrate the presence of significant bias and then addressing those issues as they arise. We don’t believe our research question has any significant ethical concerns, for any finding would not unfairly help/harm any particular team.\n",
    "\n",
    "To compile our data, we will primarily use publicly available NFL information. There are few privacy concerns with this data because the data of NFL matches and players are publicly available. We seek to avoid bias in our selection of data to use by targeting data sources that contain comprehensive match results (they leave nothing out for the season they were played in), avoiding datasets that are biased as a result of them containing limited variety of entries or omitting a significant portion of the season.\n"
   ]
  },
  {
   "cell_type": "markdown",
   "metadata": {},
   "source": [
    "# Team Expectations"
   ]
  },
  {
   "cell_type": "markdown",
   "metadata": {},
   "source": [
    "\n",
    "Read over the [COGS108 Team Policies](https://github.com/COGS108/Projects/blob/master/COGS108_TeamPolicies.md) individually. Then, include your group’s expectations of one another for successful completion of your COGS108 project below. Discuss and agree on what all of your expectations are. Discuss how your team will communicate throughout the quarter and consider how you will communicate respectfully should conflicts arise. By including each member’s name above and by adding their name to the submission, you are indicating that you have read the COGS108 Team Policies, accept your team’s expectations below, and have every intention to fulfill them. These expectations are for your team’s use and benefit — they won’t be graded for their details.\n",
    "\n",
    "* In our team, each group member will show respect to each other, no matter what kind of conflicts you have with others. \n",
    "* Each person in our group should be responsible and diligent to tackle the tasks that they are assigned. \n",
    "* We shall assign tasks to each member that match their backgrounds and strengths best with equal workloads. If anyone has any difficulties in their work and can’t solve these obstacles by themselves, they will reach out to others for help as soon as possible. \n",
    "* When conflict arises, we will work as a team, analyzing the pros and cons of each strategy and choosing the best solution. \n",
    "* All members in our group should actively participate in discussions, though absence due to time conflict or emergency is understandable. In the discussion, everyone should listen carefully when other members are sharing their ideas. \n",
    "* Each member in our group should finish their tasks on time. If anyone can’t finish the work before the deadline we agreed on, notification and explanation in advance is required. \n",
    "* Before the submission of each deadline (proposal, checkin, and final project), each member is responsible to look over the overall work we have done and fix any typos, inappropriate expressions, and coding errors in our work. \n"

   ]
  },
  {
   "cell_type": "markdown",
   "metadata": {},
   "source": [
    "# Project Timeline Proposal"
   ]
  },
  {
   "cell_type": "markdown",
   "metadata": {},
   "source": [
    "Specify your team's specific project timeline. An example timeline has been provided. Changes the dates, times, names, and details to fit your group's plan.\n",
    "\n",
    "If you think you will need any special resources or training outside what we have covered in COGS 108 to solve your problem, then your proposal should state these clearly. For example, if you have selected a problem that involves implementing multiple neural networks, please state this so we can make sure you know what you’re doing and so we can point you to resources you will need to implement your project. Note that you are not required to use outside methods.\n",
    "\n",
    "\n",
    "\n",
    "| Meeting Date  | Meeting Time| Completed Before Meeting  | Discuss at Meeting |\n",
    "|---|---|---|---|\n",
    "| 10/30  |  7 PM | Brainstorm topics + questions  | Decide on final project topic, question(s), and hypothesis | \n",
    "| 10/31  |  4 PM |  Prepare drafts of each section - each person does one | Go over drafts, edit, finalize, and submit proposal (due 11/1) | \n",
    "| 11/6  | 7 PM  | Look for datasets - 1+ each | Discuss wrangling and potential analytical approaches, assign group members to lead certain pieces   |\n",
    "| 11/13  | 7 PM  | Import data, remove unnecessary data | Review/edit datasets, submit data checkpoint (due 11/15)   |\n",
    "| 11/20  | 7 PM  | Finalize wrangling/EDA, start analyzing | Discuss and edit analysis |\n",
    "| 11/27  | 7 PM  | Edit analysis independently | Submit EDA checkpoint (due 11/29) |\n", 
    "| 12/4  | 7 PM  | Finish analysis, draft results/conclusion/discussion | Discuss + edit full project |\n",
    "| 12/11  | 7 PM  | Final edits | Turn in final project, video, + last group progress survey (due 12/13) |"
   ]
  }
 ],
 "metadata": {
  "kernelspec": {
   "display_name": "python3",
   "language": "python",
   "name": "python3"
  }
 },
 "nbformat": 4,
 "nbformat_minor": 2
}
